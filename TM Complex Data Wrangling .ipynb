{
 "cells": [
  {
   "cell_type": "code",
   "execution_count": 1,
   "id": "20b7fe68",
   "metadata": {
    "scrolled": true
   },
   "outputs": [],
   "source": [
    "# import necessary packages\n",
    "import pandas\n",
    "import numpy as np \n",
    "from rdkit import Chem\n",
    "import networkx\n",
    "from rdkit.Chem import AllChem\n",
    "from io import StringIO\n",
    "from rdkit.Chem.Draw import IPythonConsole\n",
    "from rdkit.Chem import Descriptors\n",
    "from rdkit.Chem import rdMolDescriptors\n",
    "from rdkit.Chem import Descriptors3D\n",
    "from IPython.display import SVG\n",
    "from rdkit import Chem\n",
    "from rdkit.Chem import rdDepictor\n",
    "from rdkit.Chem.Draw import rdMolDraw2D"
   ]
  },
  {
   "cell_type": "markdown",
   "id": "9c493c58",
   "metadata": {},
   "source": [
    "# Import and curate the TM complex data "
   ]
  },
  {
   "cell_type": "code",
   "execution_count": null,
   "id": "52e24a87",
   "metadata": {},
   "outputs": [],
   "source": [
    "# location of SMILES strings for TM complexes \n",
    "with open(\"tmQM_X1_smi.smi\",'r') as f:\n",
    "    lines = f.readlines()\n",
    "\n",
    "# name the columns\n",
    "curated_list = \"SMILES,CSD_Code,Charge,S,Stoichiometry,MND\\n\"\n",
    "\n",
    "for l in lines: \n",
    "    # remove all smiles strings with fragmented TM Complexes\n",
    "    if \".\" in l:\n",
    "        next\n",
    "    elif \"@\" in l:\n",
    "        next\n",
    "    # make sure the molecule registers as an rdkit object\n",
    "    else:\n",
    "        \n",
    "        l = l.strip()\n",
    "        x = l.replace(\"|\",\",\")\n",
    "        y = x.replace(\"\\tCSD_code =\",\",\")\n",
    "        z = y.replace(\" Stoichiometry = \",\"\")\n",
    "        a = z.replace(\" MND = \",\"\")\n",
    "        b = a.replace(\" q = \",\"\")\n",
    "        c = b.replace(\" \",\"\")\n",
    "        curated_list+= c + \"\\n\"\n",
    "        \n",
    "w = open(\"tmQM_X1_smi_curated.smi\",'w')         \n",
    "w.write(curated_list)\n",
    "w.close()"
   ]
  },
  {
   "cell_type": "code",
   "execution_count": null,
   "id": "1d233a8a",
   "metadata": {},
   "outputs": [],
   "source": [
    "# import the curated data and analyze with pandas\n",
    "df_X1 = pandas.read_csv(\"tmQM_X1_smi_curated.smi\",',')\n",
    "df_X1.head()\n",
    "df_X1.describe()"
   ]
  },
  {
   "cell_type": "markdown",
   "id": "0ea2a35d",
   "metadata": {},
   "source": [
    "# Import and curate the second half of the data"
   ]
  },
  {
   "cell_type": "code",
   "execution_count": null,
   "id": "8a5bbbb9",
   "metadata": {},
   "outputs": [],
   "source": [
    "# location of SMILES strings for TM complexes \n",
    "with open(\"tmQM_X2_smiles.smi\",'r') as f:\n",
    "    lines = f.readlines()\n",
    "\n",
    "# name the columns\n",
    "curated_list = \"SMILES,CSD_Code,Charge,S,Stoichiometry,MND\\n\"\n",
    "for l in lines: \n",
    "    # remove all smiles strings with fragmented TM Complexes\n",
    "    if \".\"in l:\n",
    "        next\n",
    "    elif \"@\"in l:\n",
    "        next\n",
    "    else:\n",
    "        # make sure the molecule registers as an rdkit object\n",
    "        l = l.strip()\n",
    "        x = l.replace(\"|\",\",\")\n",
    "        y = x.replace(\"\\tCSD_code =\",\",\")\n",
    "        z = y.replace(\" Stoichiometry = \",\"\")\n",
    "        a = z.replace(\" MND = \",\"\")\n",
    "        b = a.replace(\" q = \",\"\")\n",
    "        c = b.replace(\" \",\"\")\n",
    "        curated_list+= c + \"\\n\"\n",
    "\n",
    "w = open(\"tmQM_X2_smi_curated.smi\",'w')         \n",
    "w.write(curated_list)\n",
    "w.close()"
   ]
  },
  {
   "cell_type": "code",
   "execution_count": null,
   "id": "8bf055e6",
   "metadata": {
    "scrolled": true
   },
   "outputs": [],
   "source": [
    "# import the curated data and analyze with pandas\n",
    "df_X2 = pandas.read_csv(\"tmQM_X2_smi_curated.smi\")\n",
    "df_X2.head()\n",
    "df_X2.describe()"
   ]
  },
  {
   "cell_type": "code",
   "execution_count": null,
   "id": "8ba6596e",
   "metadata": {},
   "outputs": [],
   "source": [
    "# merge all molecules into one matrix \n",
    "# concatenate the 2 files containing molecular information\n",
    "mols = pandas.concat([df_X1,df_X2])\n",
    "\n",
    "# make sure the shapes add up \n",
    "print(mols.shape, df_X1.shape, df_X2.shape)"
   ]
  },
  {
   "cell_type": "code",
   "execution_count": null,
   "id": "37e12521",
   "metadata": {
    "scrolled": true
   },
   "outputs": [],
   "source": [
    "# analyze concatenation\n",
    "mols.head()"
   ]
  },
  {
   "cell_type": "code",
   "execution_count": null,
   "id": "91cb5af2",
   "metadata": {},
   "outputs": [],
   "source": [
    "# drop all molecules that don't work with RDKit\n",
    "for i, r in mols.iterrows():\n",
    "    smiles = r['SMILES']\n",
    "    try:\n",
    "        mol = Chem.MolFromSmiles(smiles)\n",
    "        test= Chem.Descriptors.ExactMolWt(mol) \n",
    "    except:\n",
    "        mols = mols.drop([i])"
   ]
  },
  {
   "cell_type": "code",
   "execution_count": null,
   "id": "b4c18323",
   "metadata": {},
   "outputs": [],
   "source": [
    "# analyze set with dropped molecules\n",
    "mols.shape\n",
    "mols.head(20)"
   ]
  },
  {
   "cell_type": "markdown",
   "id": "1ec5cfb0",
   "metadata": {},
   "source": [
    "# Test RDKit functions for a single molecule "
   ]
  },
  {
   "cell_type": "code",
   "execution_count": null,
   "id": "9d9beba2",
   "metadata": {},
   "outputs": [],
   "source": [
    "# test the molecules on RDKIT (CSD = ILOJOK)\n",
    "mol = Chem.MolFromSmiles('[Y]1234(N(c5c(cccc5C)C)[C]5C=CC=C(N15)N(c1c(cccc1C)C)C(=Nc1ccccc21)C(F)(F)F)N(c1c(cccc1C)C)[C]1C=CC=C(N31)N(c1c(cccc1C)C)[C](C(F)(F)F)N4c1ccccc1')"
   ]
  },
  {
   "cell_type": "code",
   "execution_count": null,
   "id": "35cb44e3",
   "metadata": {},
   "outputs": [],
   "source": [
    "# draw the molecule with default drawer \n",
    "mol"
   ]
  },
  {
   "cell_type": "code",
   "execution_count": null,
   "id": "7eb9dcac",
   "metadata": {},
   "outputs": [],
   "source": [
    "# function to make the drawing look better \n",
    "def DrawMol(mol):\n",
    "    \n",
    "    # create mol object from smiles string\n",
    "    mol = Chem.MolFromSmiles(mol)\n",
    "    molSize=(450,150)\n",
    "    mc = Chem.Mol(mol.ToBinary())\n",
    "    \n",
    "    if not mc.GetNumConformers():\n",
    "        rdDepictor.Compute2DCoords(mc)\n",
    "        \n",
    "    drawer = rdMolDraw2D.MolDraw2DSVG(molSize[0],molSize[1])\n",
    "    \n",
    "    # draw the molcule\n",
    "    drawer.DrawMolecule(mc)\n",
    "    drawer.FinishDrawing()\n",
    "    \n",
    "    # get the SVG string\n",
    "    svg = drawer.GetDrawingText()\n",
    "    display(SVG(svg.replace('svg:','')))"
   ]
  },
  {
   "cell_type": "code",
   "execution_count": null,
   "id": "7893d12b",
   "metadata": {
    "scrolled": true
   },
   "outputs": [],
   "source": [
    "mol2 = '[Y]1234(N(c5c(cccc5C)C)[C]5C=CC=C(N15)N(c1c(cccc1C)C)C(=Nc1ccccc21)C(F)(F)F)N(c1c(cccc1C)C)[C]1C=CC=C(N31)N(c1c(cccc1C)C)[C](C(F)(F)F)N4c1ccccc1'\n",
    "DrawMol(mol2)"
   ]
  },
  {
   "cell_type": "markdown",
   "id": "62b8d379",
   "metadata": {},
   "source": [
    "# Import and Curate the Modeling endpoints"
   ]
  },
  {
   "cell_type": "code",
   "execution_count": null,
   "id": "234c5845",
   "metadata": {},
   "outputs": [],
   "source": [
    "# location of CSV data for TM complexes\n",
    "df_y = pandas.read_csv(\"tmQM_y.csv\", ';')"
   ]
  },
  {
   "cell_type": "code",
   "execution_count": null,
   "id": "6e744031",
   "metadata": {
    "scrolled": true
   },
   "outputs": [],
   "source": [
    "# analyze the TM complex data\n",
    "df_y.head()\n",
    "df_y.describe()"
   ]
  },
  {
   "cell_type": "markdown",
   "id": "6bce77bc",
   "metadata": {},
   "source": [
    " # Merge endpoints with molecular structure  "
   ]
  },
  {
   "cell_type": "code",
   "execution_count": null,
   "id": "a764f2ba",
   "metadata": {},
   "outputs": [],
   "source": [
    "# join CSD code IDs into a complete CSD code list\n",
    "id1_list = df_X1[['CSD_Code']]\n",
    "id1_list = id1_list.values.tolist()\n",
    "id2_list = df_X2[['CSD_Code']]\n",
    "id2_list = id2_list.values.tolist()\n",
    "ID_List = mols[['CSD_Code']]\n",
    "ID_List = np.asarray(ID_List)"
   ]
  },
  {
   "cell_type": "code",
   "execution_count": null,
   "id": "75aa0215",
   "metadata": {},
   "outputs": [],
   "source": [
    "print(ID_List)"
   ]
  },
  {
   "cell_type": "code",
   "execution_count": null,
   "id": "2c8e6a52",
   "metadata": {},
   "outputs": [],
   "source": [
    "# get the list of indcies that need to be dropped \n",
    "\n",
    "# record indicies of rows to drop\n",
    "drop_idx = []\n",
    "for i, r in df_y.iterrows():\n",
    "    code = r['CSD_Code']\n",
    "    if code not in ID_List:\n",
    "        drop_idx.append(i)"
   ]
  },
  {
   "cell_type": "code",
   "execution_count": null,
   "id": "b6602271",
   "metadata": {},
   "outputs": [],
   "source": [
    "# analyze indicies of rows to drop\n",
    "print(drop_idx)"
   ]
  },
  {
   "cell_type": "code",
   "execution_count": null,
   "id": "a970b11b",
   "metadata": {},
   "outputs": [],
   "source": [
    "# drop unmatched indicies from dataframe\n",
    "for i in drop_idx:\n",
    "    df_y = df_y.drop([i])"
   ]
  },
  {
   "cell_type": "code",
   "execution_count": null,
   "id": "852c12b3",
   "metadata": {},
   "outputs": [],
   "source": [
    "# compare shapes of curated endpoints and curated molecules\n",
    "print(\"Properties:{},Molecules{}\".format(df_y.shape, mols.shape))"
   ]
  },
  {
   "cell_type": "code",
   "execution_count": null,
   "id": "7ff9af6f",
   "metadata": {},
   "outputs": [],
   "source": [
    "# merge curated endpoints with curated molecules\n",
    "DataMatrix = pandas.merge(mols,df_y,on = ['CSD_Code','CSD_Code'])"
   ]
  },
  {
   "cell_type": "code",
   "execution_count": null,
   "id": "ba36f6a0",
   "metadata": {
    "scrolled": true
   },
   "outputs": [],
   "source": [
    "# analyze merged data\n",
    "DataMatrix.head()\n",
    "DataMatrix.describe()"
   ]
  },
  {
   "cell_type": "code",
   "execution_count": null,
   "id": "fdffd3e7",
   "metadata": {},
   "outputs": [],
   "source": [
    "# rearrange matrix with endpoints on left after ID \n",
    "DataMatrix = DataMatrix[[\"CSD_Code\",\"Electronic_E\",\"Dispersion_E\",\"Dipole_M\",\"Metal_q\",\"HL_Gap\",\"HOMO_Energy\",\"LUMO_Energy\",\"Polarizability\",\"SMILES\",\"Stoichiometry\",\"Charge\",\"S\",\"MND\"]]"
   ]
  },
  {
   "cell_type": "code",
   "execution_count": null,
   "id": "3a92f85f",
   "metadata": {},
   "outputs": [],
   "source": [
    "# analyze rearranged matrix\n",
    "DataMatrix.head()\n",
    "DataMatrix.shape"
   ]
  },
  {
   "cell_type": "code",
   "execution_count": null,
   "id": "82ab8fa5",
   "metadata": {},
   "outputs": [],
   "source": [
    "# save final data to CSV file for later analysis\n",
    "DataMatrix.to_csv(\"MolMatrix.csv\", sep = ';')"
   ]
  }
 ],
 "metadata": {
  "celltoolbar": "Raw Cell Format",
  "kernelspec": {
   "display_name": "Python (myenv)",
   "language": "python",
   "name": "myenv"
  },
  "language_info": {
   "codemirror_mode": {
    "name": "ipython",
    "version": 3
   },
   "file_extension": ".py",
   "mimetype": "text/x-python",
   "name": "python",
   "nbconvert_exporter": "python",
   "pygments_lexer": "ipython3",
   "version": "3.9.7"
  }
 },
 "nbformat": 4,
 "nbformat_minor": 5
}
